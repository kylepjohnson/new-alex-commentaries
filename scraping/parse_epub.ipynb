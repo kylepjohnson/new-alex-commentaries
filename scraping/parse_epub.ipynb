{
 "cells": [
  {
   "cell_type": "code",
   "execution_count": 2,
   "metadata": {},
   "outputs": [],
   "source": [
    "import ebooklib\n",
    "from ebooklib import epub\n",
    "from bs4 import BeautifulSoup\n",
    "from dataclasses import dataclass"
   ]
  },
  {
   "cell_type": "code",
   "execution_count": 3,
   "metadata": {},
   "outputs": [],
   "source": [
    "# Author, Work, Book, Line, Commentary Name, URL\n",
    "# \"Homer\", \"Iliad\", 1, 45, \"firstthreebooks03homegoog\", \"https://archive.org/details/firstthreebooks03homegoog/page/n210/mode/2up\""
   ]
  },
  {
   "cell_type": "code",
   "execution_count": 4,
   "metadata": {},
   "outputs": [],
   "source": [
    "@dataclass\n",
    "class SingleLineComment:\n",
    "    book_number: int\n",
    "    line_number: int\n",
    "    archive_page_number: int\n",
    "    archive_link: str\n",
    "    line_commentary: str\n",
    "    secotion_commentary: str"
   ]
  },
  {
   "cell_type": "code",
   "execution_count": 5,
   "metadata": {
    "scrolled": true
   },
   "outputs": [],
   "source": [
    "@dataclass\n",
    "class Commentary:\n",
    "    modern_author: str\n",
    "    ancient_author: str\n",
    "    ancient_work: str\n",
    "    modern_title: str\n",
    "    archive_id: str\n",
    "    archive_url: str\n",
    "    single_line_comment: list[SingleLineComment] = None"
   ]
  },
  {
   "cell_type": "code",
   "execution_count": 6,
   "metadata": {},
   "outputs": [],
   "source": [
    "book = epub.read_epub(\"../example-texts/firstthreebooks03homegoog_firstthreebooks03homegoog.epub\")"
   ]
  },
  {
   "cell_type": "code",
   "execution_count": 7,
   "metadata": {},
   "outputs": [
    {
     "data": {
      "text/plain": [
       "ebooklib.epub.EpubBook"
      ]
     },
     "execution_count": 7,
     "metadata": {},
     "output_type": "execute_result"
    }
   ],
   "source": [
    "type(book)"
   ]
  },
  {
   "cell_type": "code",
   "execution_count": 8,
   "metadata": {
    "scrolled": true
   },
   "outputs": [],
   "source": [
    "# for item in book.get_items():\n",
    "#     if item.get_type() == ebooklib.ITEM_DOCUMENT:\n",
    "#         print('==================================')\n",
    "#         print('NAME : ', item.get_name())\n",
    "#         print('----------------------------------')\n",
    "#         print(item.get_content())\n",
    "#         print('==================================')"
   ]
  },
  {
   "cell_type": "code",
   "execution_count": 9,
   "metadata": {},
   "outputs": [],
   "source": [
    "# Get ITEM_DOCUMENT\n",
    "chapters = []\n",
    "for item in book.get_items():\n",
    "    if item.get_type() == ebooklib.ITEM_DOCUMENT:\n",
    "        chapters.append(item.get_content())"
   ]
  },
  {
   "cell_type": "code",
   "execution_count": 13,
   "metadata": {
    "scrolled": false
   },
   "outputs": [
    {
     "name": "stdout",
     "output_type": "stream",
     "text": [
      "<span epub:type=\"pagebreak\" id=\"0\" title=\"0\" xmlns:epub=\"http://www.idpf.org/2007/ops\"></span>\n"
     ]
    }
   ],
   "source": [
    "# Get commentaries and web page links\n",
    "import re\n",
    "soup1 = BeautifulSoup(chapters[1], 'html.parser')\n",
    "find = [para for para in soup1.find_all(['p','span'])]\n",
    "# print(find)\n",
    "# print(find[0].get_text())\n",
    "print(find[20].attrs['id'])\n",
    "# print(find[2000])\n",
    "# print(find[20])"
   ]
  },
  {
   "cell_type": "code",
   "execution_count": 14,
   "metadata": {},
   "outputs": [
    {
     "data": {
      "text/plain": [
       "'http://archive.org/details/firstthreebooks03homegoog'"
      ]
     },
     "execution_count": 14,
     "metadata": {},
     "output_type": "execute_result"
    }
   ],
   "source": [
    "# Initiate Commentary OBJ\n",
    "seymour_comm = Commentary(modern_author=book.get_metadata('DC', 'creator')[1][0],\n",
    "                         ancient_author=book.get_metadata('DC', 'creator')[0][0],\n",
    "                         ancient_work=\"Iliad\",\n",
    "                         modern_title=book.get_metadata('DC', 'title')[0][0],\n",
    "                         archive_id=book.get_metadata('DC', 'identifier')[0][0],\n",
    "                         archive_url=book.get_metadata('DC', 'identifier')[1][0].split(': ')[1])\n",
    "seymour_comm.modern_author\n",
    "seymour_comm.archive_url"
   ]
  },
  {
   "cell_type": "code",
   "execution_count": 15,
   "metadata": {},
   "outputs": [],
   "source": [
    "book_dict = {'FIRST': 1, 'SECOND': 2, 'THIRD': 3}"
   ]
  },
  {
   "cell_type": "code",
   "execution_count": 16,
   "metadata": {},
   "outputs": [],
   "source": [
    "seymour_comm.single_line_comment = []\n",
    "archive_url = seymour_comm.archive_url\n",
    "\n",
    "curr_book = 0\n",
    "curr_page = 0\n",
    "curr_sec_comm = ''\n",
    "start = False\n",
    "\n",
    "for para in find:\n",
    "    if para.name == 'p':\n",
    "        text = para.get_text()\n",
    "        if text == 'COMMENTARY. ' and not start:\n",
    "            start = True\n",
    "            \n",
    "        # Commentary begins\n",
    "        if start:\n",
    "            \n",
    "            # Book Number\n",
    "            if re.search('BOOK\\sOF\\sTHE\\sILIAD.\\s$', text):\n",
    "                curr_book = book_dict[text.split()[0]]\n",
    "                \n",
    "            # Section Comm (1-7. ) and Edge Case (28-32 = 11-15)\n",
    "            elif re.search('^\\d{1,3}-\\d{1,3}\\s=\\s\\d{1,3}-\\d{1,3}', text) or re.search('^\\d{1,3}-\\d{1,3}.\\s', text):\n",
    "                curr_sec_comm = text\n",
    "            \n",
    "            # Line Comm Edge Case 2 (324 = 137, 451 f. = 37 f . )\n",
    "            elif (re.search('^\\d{1,3}\\s=\\s\\d{1,3}', text) or (re.search('^\\d{1,3}\\sf.\\s=', text))):\n",
    "                line_num = int(re.search('^\\d+. ', text).group()[:-1])\n",
    "                seymour_comm.single_line_comment.append(SingleLineComment(book_number = curr_book, \n",
    "                                                                          line_number = line_num,\n",
    "                                                                          archive_page_number = curr_page,\n",
    "                                                                          archive_link = curr_link,\n",
    "                                                                          line_commentary = text,\n",
    "                                                                          secotion_commentary = curr_sec_comm))\n",
    "            # Line Comm (23. )\n",
    "            elif re.search('^\\d{1,3}.\\s', text):\n",
    "                line_num = int(re.search('^\\d{1,3}.\\s', text).group()[:-2])\n",
    "                seymour_comm.single_line_comment.append(SingleLineComment(book_number = curr_book, \n",
    "                                                                          line_number = line_num,\n",
    "                                                                          archive_page_number = curr_page,\n",
    "                                                                          archive_link = curr_link,\n",
    "                                                                          line_commentary = text,\n",
    "                                                                          secotion_commentary = curr_sec_comm))\n",
    "    elif para.name == 'span' and para.attrs['epub:type'] == \"pagebreak\":\n",
    "        curr_page = int(para.attrs['id'])+1\n",
    "        curr_link = archive_url + '/page/n'+str(curr_page)+'/mode/2up'\n",
    "        \n"
   ]
  },
  {
   "cell_type": "code",
   "execution_count": 17,
   "metadata": {
    "scrolled": false
   },
   "outputs": [
    {
     "data": {
      "text/plain": [
       "SingleLineComment(book_number=1, line_number=71, archive_page_number=133, archive_link='http://archive.org/details/firstthreebooks03homegoog/page/n133/mode/2up', line_commentary=\"71. Wjco-cTi [vavo-4 ]: * dative of interest' with the verb. — For the inflection, see § 36 5; H. 206 D; G. 270. — ij-yVaTo: l^d the way, guided. Here metaphorically of the seer who interpreted the portents relating to the voyage; cf B 322 f So on the Argonautic expedition, the seer Mopsus gave the word for setting out. No expedition was complete without a soothsayer, even in the time of the Persian war, cf Hdt. ix. 37. But Xenophon and Clearchus inspected the sacrifices and observed the omens, in person.—IXtov: here like Tpoii;, of the kingdom of Priam, not the city itself.—fl<r»: only with verbs of motion; much like cis- It follows its accusative. \", secotion_commentary='53-100. Assembly of the Greeks,   Speeches of Achilles and Calchas, ')"
      ]
     },
     "execution_count": 17,
     "metadata": {},
     "output_type": "execute_result"
    }
   ],
   "source": [
    "seymour_comm.single_line_comment[70]"
   ]
  },
  {
   "cell_type": "code",
   "execution_count": 18,
   "metadata": {},
   "outputs": [
    {
     "data": {
      "text/plain": [
       "'http://archive.org/details/firstthreebooks03homegoog/page/n133/mode/2up'"
      ]
     },
     "execution_count": 18,
     "metadata": {},
     "output_type": "execute_result"
    }
   ],
   "source": [
    "[comm.archive_link for comm in seymour_comm.single_line_comment \n",
    " if comm.book_number == 1 and comm.line_number == 71][0]"
   ]
  },
  {
   "cell_type": "code",
   "execution_count": null,
   "metadata": {},
   "outputs": [],
   "source": []
  }
 ],
 "metadata": {
  "kernelspec": {
   "display_name": "Anaconda (base)",
   "language": "python",
   "name": "anaconda-base"
  },
  "language_info": {
   "codemirror_mode": {
    "name": "ipython",
    "version": 3
   },
   "file_extension": ".py",
   "mimetype": "text/x-python",
   "name": "python",
   "nbconvert_exporter": "python",
   "pygments_lexer": "ipython3",
   "version": "3.9.5"
  }
 },
 "nbformat": 4,
 "nbformat_minor": 5
}
