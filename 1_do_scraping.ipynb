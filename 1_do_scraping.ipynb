{
 "cells": [
  {
   "cell_type": "code",
   "execution_count": 1,
   "id": "10d6b538",
   "metadata": {},
   "outputs": [],
   "source": [
    "%load_ext autoreload\n",
    "%autoreload 2"
   ]
  },
  {
   "cell_type": "markdown",
   "id": "73076558",
   "metadata": {},
   "source": [
    "# About\n",
    "\n",
    "This notebook gives examples of how to query the Archive.prg API with a search string, then save the results locally in the format expected by the next notebook, `2_do_inference.ipynb`."
   ]
  },
  {
   "cell_type": "code",
   "execution_count": 2,
   "id": "4a5b16d0",
   "metadata": {},
   "outputs": [],
   "source": [
    "from internetarchive import search_items, get_item, Search\n",
    "\n",
    "from ner_pipeline.scrape_for_training import do_search\n",
    "from ner_pipeline.scrape_for_training import prepare_data"
   ]
  },
  {
   "cell_type": "markdown",
   "id": "bef41680",
   "metadata": {},
   "source": [
    "# Step 1: Define documents to query\n",
    "\n",
    "This first step finds documents that *may* contain citations of Homer's *Iliad* or *Odyssey*."
   ]
  },
  {
   "cell_type": "code",
   "execution_count": 3,
   "id": "16cbdfb2",
   "metadata": {},
   "outputs": [
    {
     "name": "stdout",
     "output_type": "stream",
     "text": [
      "Search string: iliad OR odyssey AND mediatype:texts\n",
      "Results: 543609\n"
     ]
    }
   ],
   "source": [
    "IL_OD: str = \"iliad OR odyssey AND mediatype:texts\"\n",
    "# 543,608 results with full_text_search (as of 06 Sept 2021)\n",
    "SEARCH_RES: Search = do_search(keyword_string=IL_OD)"
   ]
  },
  {
   "cell_type": "markdown",
   "id": "a9253e31",
   "metadata": {},
   "source": [
    "# Step 2: Query documents for citations\n",
    "\n",
    "In the documents returned above, now look for citations that match our regex pattern."
   ]
  },
  {
   "cell_type": "code",
   "execution_count": 4,
   "id": "27b2bc4e",
   "metadata": {},
   "outputs": [],
   "source": [
    "# Regex of patterns of citations\n",
    "PATTERN = r'Iliad\\s\\d{1,2}\\.\\d{1,4}|Il\\.*\\s\\d{1,2}\\.\\d{1,4}|Iliad\\s.[ivxlcdm]*\\.\\s*\\d{1,4}| \\\n",
    "            Il\\.*\\s.[ivxlcdm]*\\.\\s*\\d{1,4}|book\\s*.[ivxlcdm]\\.\\sline\\s*\\d{1,4}| \\\n",
    "            Odyssey\\s\\d{1,2}\\.\\d{1,4}|Od\\.*\\s\\d{1,2}\\.\\d{1,4}|Odyssey\\s.[ivxlcdm]*\\.\\s*\\d{1,4}| \\\n",
    "            Od\\.*\\s.[ivxlcdm]*\\.\\s*\\d{1,4}'"
   ]
  },
  {
   "cell_type": "markdown",
   "id": "7f7f7cbe",
   "metadata": {},
   "source": [
    "By calling this fucntion, user-defined number of pos/neg instances will be saved in the directory `pos_neg_instances`."
   ]
  },
  {
   "cell_type": "code",
   "execution_count": 5,
   "id": "039375a0",
   "metadata": {},
   "outputs": [
    {
     "name": "stdout",
     "output_type": "stream",
     "text": [
      "Successfully got 10 positive data and 10 negative data by scraping 13 books!\n",
      "Positive instances are saved at: pos_neg_instances/pos_instances_10.txt\n",
      "Negative instances are saved at: pos_neg_instances/neg_instances_10.txt\n"
     ]
    }
   ],
   "source": [
    "NUM_POS = 10  # 10000\n",
    "NUM_NEG = 10  # 10000\n",
    "prepare_data(search_res=SEARCH_RES,\n",
    "             pattern=PATTERN,\n",
    "             num_of_pos=NUM_POS,\n",
    "             num_of_neg=NUM_NEG)"
   ]
  },
  {
   "cell_type": "markdown",
   "id": "04d29fc2",
   "metadata": {},
   "source": [
    "# Inspect results\n",
    "\n",
    "Now that the results have been downloaded, look at the two files that have been generated."
   ]
  },
  {
   "cell_type": "code",
   "execution_count": 6,
   "id": "835bfec9",
   "metadata": {},
   "outputs": [
    {
     "name": "stdout",
     "output_type": "stream",
     "text": [
      "{'content': 'I Megarians for Salamis, they quoted Iliad 2. 558, where ', 'annotations': [{'start': 37, 'end': 49, 'label': 'Citation'}]}\r\n",
      "{'content': 'Megarians for Salamis, they quoted Iliad 2. 558, where ', 'annotations': [{'start': 35, 'end': 47, 'label': 'Citation'}]}\r\n",
      "{'content': 'Megarians for Salamis, they quoted Iliad 2. 558, where ', 'annotations': [{'start': 35, 'end': 47, 'label': 'Citation'}]}\r\n",
      "{'content': 'The same lines occur in the Odyssey xxi. 350., and in ', 'annotations': [{'start': 28, 'end': 44, 'label': 'Citation'}]}\r\n",
      "{'content': 'the Iliad vi. 490. at the close of the interview between ', 'annotations': [{'start': 4, 'end': 17, 'label': 'Citation'}]}\r\n",
      "{'content': 'Megarians for Salamis, they quoted Iliad 2. 558, where ', 'annotations': [{'start': 35, 'end': 47, 'label': 'Citation'}]}\r\n",
      "{'content': 'cp. Odyssey iv. 293 ', 'annotations': [{'start': 4, 'end': 19, 'label': 'Citation'}]}\r\n",
      "{'content': 'the Iliad (xix. 326-333) breaks the sequence of the verses ', 'annotations': [{'start': 4, 'end': 19, 'label': 'Citation'}]}\r\n",
      "{'content': 'threaten in Odyssey xi. 73. (See Leaf, \"Iliad,\" vol. ii., ', 'annotations': [{'start': 12, 'end': 26, 'label': 'Citation'}]}\r\n",
      "{'content': 'Iliad (xxiii. 103, 104) the spirits are said to be deprived of ', 'annotations': [{'start': 0, 'end': 17, 'label': 'Citation'}]}\r\n"
     ]
    }
   ],
   "source": [
    "!head -n 10 pos_neg_instances/pos_instances_10.txt"
   ]
  },
  {
   "cell_type": "code",
   "execution_count": 7,
   "id": "71516e8a",
   "metadata": {},
   "outputs": [
    {
     "name": "stdout",
     "output_type": "stream",
     "text": [
      "{'content': 'wBMESm ', 'annotations': []}\r\n",
      "{'content': '■ft*-: ', 'annotations': []}\r\n",
      "{'content': 'Hi ', 'annotations': []}\r\n",
      "{'content': 'm ', 'annotations': []}\r\n",
      "{'content': \"• ■■:*&'■- 1 \", 'annotations': []}\r\n",
      "{'content': ', . .v;ii ; i- ', 'annotations': []}\r\n",
      "{'content': 'IB ', 'annotations': []}\r\n",
      "{'content': 'i . . ? /**« ', 'annotations': []}\r\n",
      "{'content': '1 SSrSS ', 'annotations': []}\r\n",
      "{'content': ':vy>< ', 'annotations': []}\r\n"
     ]
    }
   ],
   "source": [
    "!head -n 10 pos_neg_instances/neg_instances_10.txt"
   ]
  },
  {
   "cell_type": "markdown",
   "id": "b90f37ad",
   "metadata": {},
   "source": [
    "# How to run\n",
    "\n",
    "When scraping large amounts of samples from Archive.org, export this file and put it in the `scripts` directory."
   ]
  }
 ],
 "metadata": {
  "kernelspec": {
   "display_name": "Python 3",
   "language": "python",
   "name": "python3"
  },
  "language_info": {
   "codemirror_mode": {
    "name": "ipython",
    "version": 3
   },
   "file_extension": ".py",
   "mimetype": "text/x-python",
   "name": "python",
   "nbconvert_exporter": "python",
   "pygments_lexer": "ipython3",
   "version": "3.9.5"
  }
 },
 "nbformat": 4,
 "nbformat_minor": 5
}
