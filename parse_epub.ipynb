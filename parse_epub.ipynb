{
 "cells": [
  {
   "cell_type": "code",
   "execution_count": null,
   "id": "907a0267",
   "metadata": {},
   "outputs": [],
   "source": [
    "import ebooklib\n",
    "from ebooklib import epub"
   ]
  },
  {
   "cell_type": "code",
   "execution_count": null,
   "id": "f6eff769",
   "metadata": {},
   "outputs": [],
   "source": [
    "book = epub.read_epub(\"example-texts/firstthreebooks03homegoog_firstthreebooks03homegoog.epub\")"
   ]
  },
  {
   "cell_type": "code",
   "execution_count": null,
   "id": "4f27eb5d",
   "metadata": {},
   "outputs": [],
   "source": [
    "for image in book.get_items_of_type(ebooklib.ITEM_IMAGE):\n",
    "    print(image)"
   ]
  },
  {
   "cell_type": "code",
   "execution_count": null,
   "id": "737fe692",
   "metadata": {},
   "outputs": [],
   "source": [
    "book.title"
   ]
  },
  {
   "cell_type": "code",
   "execution_count": null,
   "id": "0d207496",
   "metadata": {
    "scrolled": true
   },
   "outputs": [],
   "source": [
    "for item in book.get_items():\n",
    "    if item.get_type() == ebooklib.ITEM_DOCUMENT:\n",
    "        print('==================================')\n",
    "        print('NAME : ', item.get_name())\n",
    "        print('----------------------------------')\n",
    "        print(item.get_content())\n",
    "        print('==================================')"
   ]
  },
  {
   "cell_type": "code",
   "execution_count": null,
   "id": "e5358268",
   "metadata": {},
   "outputs": [],
   "source": []
  }
 ],
 "metadata": {
  "kernelspec": {
   "display_name": "Python 3",
   "language": "python",
   "name": "python3"
  },
  "language_info": {
   "codemirror_mode": {
    "name": "ipython",
    "version": 3
   },
   "file_extension": ".py",
   "mimetype": "text/x-python",
   "name": "python",
   "nbconvert_exporter": "python",
   "pygments_lexer": "ipython3",
   "version": "3.9.5"
  }
 },
 "nbformat": 4,
 "nbformat_minor": 5
}
