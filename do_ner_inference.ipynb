{
 "cells": [
  {
   "cell_type": "code",
   "execution_count": 1,
   "metadata": {},
   "outputs": [],
   "source": [
    "import re\n",
    "import torch\n",
    "import json\n",
    "import pickle\n",
    "\n",
    "from seqeval.metrics import accuracy_score, f1_score, classification_report, precision_score, recall_score\n",
    "from seqeval.scheme import BILOU\n",
    "from transformers import BertForTokenClassification, BertTokenizer, BertTokenizerFast, BatchEncoding\n",
    "from tokenizers import decoders, Encoding\n",
    "\n",
    "from ner_pipeline.labelset import LabelSet"
   ]
  },
  {
   "cell_type": "code",
   "execution_count": 2,
   "metadata": {},
   "outputs": [],
   "source": [
    "# load the model\n",
    "model = BertForTokenClassification.from_pretrained(\"bert_ner_il_od-with-gpu-10000.model\")"
   ]
  },
  {
   "cell_type": "code",
   "execution_count": 3,
   "metadata": {},
   "outputs": [],
   "source": [
    "label_list = ['O', 'B-Citation', 'I-Citation', 'L-Citation', 'U-Citation']"
   ]
  },
  {
   "cell_type": "code",
   "execution_count": 4,
   "metadata": {},
   "outputs": [],
   "source": [
    "tokenizer = BertTokenizerFast.from_pretrained(\"bert-base-cased\")"
   ]
  },
  {
   "cell_type": "code",
   "execution_count": 5,
   "metadata": {},
   "outputs": [],
   "source": [
    "# load the labeled data for testing\n",
    "with open(\"labeled_data/test_1500_of_10000.pickle\", \"rb\") as dataset_test_file:\n",
    "    test_instances = pickle.load(dataset_test_file)"
   ]
  },
  {
   "cell_type": "code",
   "execution_count": 6,
   "metadata": {},
   "outputs": [],
   "source": [
    "#print(test_instances[0])"
   ]
  },
  {
   "cell_type": "code",
   "execution_count": 7,
   "metadata": {},
   "outputs": [],
   "source": [
    "# Get predictions from out trained model\n",
    "pred = []\n",
    "for instance in test_instances:\n",
    "    inputs_line = tokenizer.encode(instance[\"content\"], return_tensors=\"pt\")\n",
    "    # predict by the model\n",
    "    outputs_line = model(inputs_line).logits\n",
    "    predictions_line = torch.argmax(outputs_line, dim=2)\n",
    "    \n",
    "    pred_line_label = []\n",
    "    for prediction in predictions_line[0].numpy():\n",
    "        pred_line_label.append(label_list[prediction])\n",
    "    pred.append(pred_line_label)"
   ]
  },
  {
   "cell_type": "code",
   "execution_count": 8,
   "metadata": {},
   "outputs": [],
   "source": [
    "citation_label_set = LabelSet(labels=[\"Citation\"])"
   ]
  },
  {
   "cell_type": "code",
   "execution_count": 9,
   "metadata": {},
   "outputs": [],
   "source": [
    "# Get true results of citations to evaluate the performance of our model\n",
    "true = []\n",
    "for instance in test_instances:\n",
    "    match_tokenized_batch : BatchEncoding = tokenizer(instance[\"content\"])\n",
    "    match_tokenized_text : Encoding = match_tokenized_batch[0]\n",
    "    aligned_label_ids = citation_label_set.get_aligned_label_ids_from_annotations(\n",
    "        match_tokenized_text, instance[\"annotations\"]\n",
    "    )\n",
    "    true_line_label = []\n",
    "    for match_id in aligned_label_ids:\n",
    "        true_line_label.append(label_list[match_id])\n",
    "    true.append(true_line_label)"
   ]
  },
  {
   "cell_type": "code",
   "execution_count": 10,
   "metadata": {},
   "outputs": [
    {
     "name": "stdout",
     "output_type": "stream",
     "text": [
      "Length of predictions: 1500\n",
      "Length of truths: 1500\n"
     ]
    }
   ],
   "source": [
    "print(\"Length of predictions: \" + str(len(pred)))\n",
    "print(\"Length of truths: \" + str(len(true)))"
   ]
  },
  {
   "cell_type": "code",
   "execution_count": 11,
   "metadata": {
    "scrolled": false
   },
   "outputs": [
    {
     "name": "stdout",
     "output_type": "stream",
     "text": [
      "              precision    recall  f1-score   support\n",
      "\n",
      "    Citation       0.99      1.00      0.99       778\n",
      "\n",
      "   micro avg       0.99      1.00      0.99       778\n",
      "   macro avg       0.99      1.00      0.99       778\n",
      "weighted avg       0.99      1.00      0.99       778\n",
      "\n"
     ]
    }
   ],
   "source": [
    "# Precision and Recall result\n",
    "print(classification_report(true, pred, mode='strict'))"
   ]
  },
  {
   "cell_type": "code",
   "execution_count": null,
   "metadata": {},
   "outputs": [],
   "source": []
  }
 ],
 "metadata": {
  "kernelspec": {
   "display_name": "Anaconda (base)",
   "language": "python",
   "name": "anaconda-base"
  },
  "language_info": {
   "codemirror_mode": {
    "name": "ipython",
    "version": 3
   },
   "file_extension": ".py",
   "mimetype": "text/x-python",
   "name": "python",
   "nbconvert_exporter": "python",
   "pygments_lexer": "ipython3",
   "version": "3.9.5"
  }
 },
 "nbformat": 4,
 "nbformat_minor": 2
}
