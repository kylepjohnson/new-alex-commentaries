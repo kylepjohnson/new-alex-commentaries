{
 "cells": [
  {
   "cell_type": "code",
   "execution_count": 36,
   "metadata": {},
   "outputs": [],
   "source": [
    "import re\n",
    "import torch\n",
    "import json\n",
    "import requests\n",
    "import ebooklib\n",
    "from ebooklib import epub\n",
    "import urllib\n",
    "\n",
    "from bs4 import BeautifulSoup\n",
    "from internetarchive import search_items, get_item, Search\n",
    "\n",
    "from seqeval.metrics import accuracy_score, f1_score, classification_report, precision_score, recall_score\n",
    "from seqeval.scheme import BILOU\n",
    "from tokenizers import decoders, Encoding\n",
    "from transformers import BertForTokenClassification, BertTokenizer, BertTokenizerFast, BatchEncoding\n",
    "\n",
    "from ner_pipeline.alignment import align_tokens_and_annotations_bilou\n",
    "from ner_pipeline.scrape_for_training import do_search, prepare_data\n",
    "# from ner_pipeline.prepare_data import prepare_data\n",
    "from ner_pipeline.labelset import LabelSet"
   ]
  },
  {
   "cell_type": "code",
   "execution_count": 37,
   "metadata": {},
   "outputs": [],
   "source": [
    "model = BertForTokenClassification.from_pretrained(\"bert_ner_il_od-with-gpu-100.model\")"
   ]
  },
  {
   "cell_type": "code",
   "execution_count": 3,
   "metadata": {},
   "outputs": [],
   "source": [
    "tokenizer = BertTokenizerFast.from_pretrained(\"bert-base-cased\")"
   ]
  },
  {
   "cell_type": "code",
   "execution_count": 4,
   "metadata": {},
   "outputs": [],
   "source": [
    "label_list = ['O', 'B-CLEntity', 'I-CLEntity', 'L-CLEntity', 'U-CLEntity']"
   ]
  },
  {
   "cell_type": "code",
   "execution_count": 5,
   "metadata": {},
   "outputs": [
    {
     "name": "stdout",
     "output_type": "stream",
     "text": [
      "Search string: iliad OR odyssey AND mediatype:texts\n",
      "Results: 538884\n"
     ]
    }
   ],
   "source": [
    "# Do search\n",
    "il_od: str = \"iliad OR odyssey AND mediatype:texts\"  # 771,646 with full_text_search, 6240 without\n",
    "search_res: Search = do_search(keyword_string=il_od)"
   ]
  },
  {
   "cell_type": "code",
   "execution_count": 6,
   "metadata": {},
   "outputs": [],
   "source": [
    "def get_epub_url(book_url: str) -> str:\n",
    "    \"\"\"Scrape the epub file url from the web page \n",
    "    directed by the input ``book_url``.\n",
    "    \"\"\"\n",
    "    book_web_page = requests.get(book_url)\n",
    "    book_web_page_soup = BeautifulSoup(book_web_page.text, 'html.parser')\n",
    "    epub_url = \"\"\n",
    "    for link in book_web_page_soup.find_all('a', 'stealth'):\n",
    "        epub_url_candidate = link.get('href')\n",
    "        if epub_url_candidate.endswith('.epub'):\n",
    "            epub_url = epub_url_candidate   \n",
    "    return epub_url"
   ]
  },
  {
   "cell_type": "code",
   "execution_count": 10,
   "metadata": {},
   "outputs": [],
   "source": [
    "def read_epub_from_url(epub_url):\n",
    "    with urllib.request.urlopen(epub_url) as url:\n",
    "        s = url.read()\n",
    "    with open(r\"c:\\tmp\\test.epub\", \"wb\") as f:\n",
    "        f.write(s)\n",
    "    epub_book = epub.read_epub(r\"c:\\tmp\\test.epub\")\n",
    "    return epub_book"
   ]
  },
  {
   "cell_type": "code",
   "execution_count": 15,
   "metadata": {},
   "outputs": [],
   "source": [
    "# index = 0\n",
    "# for item in search_res:\n",
    "#     if index == 0:\n",
    "#         book_url = \"https://archive.org/details/\" + item[\"fields\"][\"identifier\"][0]\n",
    "#         epub_url = get_epub_url(book_url)\n",
    "#         if epub_url:\n",
    "#             epub_url = 'https://archive.org' + epub_url\n",
    "#             # Access to the epub file\n",
    "#             epub_book = read_epub_from_url(epub_url)\n",
    "#             print(\"type: \", type(epub_book))\n",
    "#             chapters = []\n",
    "#             for item in book.get_items():\n",
    "#                 if item.get_type() == ebooklib.ITEM_DOCUMENT:\n",
    "#                     chapters.append(item.get_content())\n",
    "#             print(\"chapters: \", chapters)\n",
    "#             soup1 = BeautifulSoup(chapters[1], 'html.parser')\n",
    "#             find = [para for para in soup1.find_all(['p','span'])]\n",
    "            \n",
    "#             print(find)\n",
    "#             print(find[0].get_text())\n",
    "#             print(find[20].attrs['id'])\n",
    "#             print(find[2000])\n",
    "#             print(find[20])\n",
    "            \n",
    "#             index += 1\n",
    "#     else:\n",
    "#         break"
   ]
  },
  {
   "cell_type": "code",
   "execution_count": 20,
   "metadata": {},
   "outputs": [
    {
     "data": {
      "text/plain": [
       "ebooklib.epub.EpubBook"
      ]
     },
     "execution_count": 20,
     "metadata": {},
     "output_type": "execute_result"
    }
   ],
   "source": [
    "book = epub.read_epub(\"epub_downloads/introductionsto00cole_introductionsto00cole.epub\")\n",
    "type(book)"
   ]
  },
  {
   "cell_type": "code",
   "execution_count": 35,
   "metadata": {},
   "outputs": [
    {
     "name": "stdout",
     "output_type": "stream",
     "text": [
      "15\n"
     ]
    }
   ],
   "source": [
    "# Get ITEM_DOCUMENT\n",
    "chapters = []\n",
    "for item in book.get_items():\n",
    "    if item.get_type() == ebooklib.ITEM_DOCUMENT:\n",
    "        chapters.append(item.get_content())\n",
    "\n",
    "soup1 = BeautifulSoup(chapters[2], 'html.parser')\n",
    "find = [para for para in soup1.find_all(['p','span'])]\n",
    "# print(find)\n",
    "# print(find[0].get_text())\n",
    "# print(find[23].attrs['id'])\n",
    "# print(find[2000])\n",
    "# print(find[20])"
   ]
  },
  {
   "cell_type": "code",
   "execution_count": 9,
   "metadata": {},
   "outputs": [],
   "source": [
    "pattern = r'Iliad\\s\\d{1,2}\\.\\d{1,4}|Il\\.*\\s\\d{1,2}\\.\\d{1,4}|Iliad\\s.[ivxlcdm]*\\.\\s*\\d{1,4}| \\\n",
    "            Il\\.*\\s.[ivxlcdm]*\\.\\s*\\d{1,4}|book\\s*.[ivxlcdm]\\.\\sline\\s*\\d{1,4}| \\\n",
    "            Odyssey\\s\\d{1,2}\\.\\d{1,4}|Od\\.*\\s\\d{1,2}\\.\\d{1,4}|Odyssey\\s.[ivxlcdm]*\\.\\s*\\d{1,4}| \\\n",
    "            Od\\.*\\s.[ivxlcdm]*\\.\\s*\\d{1,4}'"
   ]
  },
  {
   "cell_type": "code",
   "execution_count": null,
   "metadata": {},
   "outputs": [],
   "source": []
  }
 ],
 "metadata": {
  "kernelspec": {
   "display_name": "Anaconda (base)",
   "language": "python",
   "name": "anaconda-base"
  },
  "language_info": {
   "codemirror_mode": {
    "name": "ipython",
    "version": 3
   },
   "file_extension": ".py",
   "mimetype": "text/x-python",
   "name": "python",
   "nbconvert_exporter": "python",
   "pygments_lexer": "ipython3",
   "version": "3.9.5"
  }
 },
 "nbformat": 4,
 "nbformat_minor": 2
}
