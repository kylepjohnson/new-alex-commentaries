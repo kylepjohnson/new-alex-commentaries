{
 "cells": [
  {
   "cell_type": "code",
   "execution_count": 2,
   "id": "07d31878",
   "metadata": {},
   "outputs": [],
   "source": [
    "# Format from Luke's frontend to read (imagine a .csv):\n",
    "\n",
    "# Author, Work, Book, Line, Commentary Name, URL\n",
    "# \"Homer\", \"Iliad\", 1, 45, \"firstthreebooks03homegoog\", \"https://archive.org/details/firstthreebooks03homegoog/page/n210/mode/2up\""
   ]
  },
  {
   "cell_type": "code",
   "execution_count": 3,
   "id": "272fc962",
   "metadata": {},
   "outputs": [],
   "source": [
    "from dataclasses import dataclass"
   ]
  },
  {
   "cell_type": "code",
   "execution_count": 14,
   "id": "68ba3d05",
   "metadata": {},
   "outputs": [],
   "source": [
    "@dataclass\n",
    "class SingleLineComment:\n",
    "    line_number: int\n",
    "    ancient_book_number: int\n",
    "    archive_page_number: int\n",
    "    text: str"
   ]
  },
  {
   "cell_type": "code",
   "execution_count": 15,
   "id": "fdea1c92",
   "metadata": {},
   "outputs": [],
   "source": [
    "@dataclass\n",
    "class Commenary:\n",
    "    modern_author: str\n",
    "    ancient_author: str\n",
    "    ancient_work: str\n",
    "    modern_title: str\n",
    "    archive_id: str\n",
    "    archive_url: str\n",
    "    single_line_comment: list[SingleLineComment] = None"
   ]
  },
  {
   "cell_type": "code",
   "execution_count": 16,
   "id": "65d57837",
   "metadata": {},
   "outputs": [],
   "source": [
    "seymour_comm = Commenary(modern_author=\"Seymour\",\n",
    "                         ancient_author=\"Homer\", \n",
    "                         ancient_work=\"Iliad\",\n",
    "                         modern_title=\"Some title here\",\n",
    "                         archive_id=\"firstthreebooks03homegoog\",\n",
    "                         archive_url=\"https://archive.org/details/firstthreebooks03homegoog\")"
   ]
  },
  {
   "cell_type": "code",
   "execution_count": 17,
   "id": "dbabd9c1",
   "metadata": {},
   "outputs": [
    {
     "data": {
      "text/plain": [
       "Commenary(modern_author='Seymour', ancient_author='Homer', ancient_work='Iliad', modern_title='Some title here', archive_id='firstthreebooks03homegoog', archive_url='https://archive.org/details/firstthreebooks03homegoog', single_line_comment=None)"
      ]
     },
     "execution_count": 17,
     "metadata": {},
     "output_type": "execute_result"
    }
   ],
   "source": [
    "seymour_comm"
   ]
  },
  {
   "cell_type": "code",
   "execution_count": 10,
   "id": "ebe26012",
   "metadata": {},
   "outputs": [
    {
     "data": {
      "text/plain": [
       "__main__.Commenary"
      ]
     },
     "execution_count": 10,
     "metadata": {},
     "output_type": "execute_result"
    }
   ],
   "source": [
    "type(seymour_comm)"
   ]
  },
  {
   "cell_type": "code",
   "execution_count": 18,
   "id": "2ad07608",
   "metadata": {},
   "outputs": [],
   "source": [
    "line_1 = SingleLineComment(line_number=1,\n",
    "                           ancient_book_number=1,\n",
    "                           archive_page_number=122, \n",
    "                           text=\"548. Wici 8^ icrX.: parenthetical clause. Erechtheus is called yrpf^vrfi by Herodotus and others. The Athenians boasted that they were children of the soil (aurox^ovcs)* \")"
   ]
  },
  {
   "cell_type": "code",
   "execution_count": 19,
   "id": "57974803",
   "metadata": {},
   "outputs": [],
   "source": [
    "seymour_comm.single_line_comment = [line_1]"
   ]
  },
  {
   "cell_type": "code",
   "execution_count": 20,
   "id": "803c97f7",
   "metadata": {},
   "outputs": [
    {
     "data": {
      "text/plain": [
       "[SingleLineComment(line_number=1, ancient_book_number=1, archive_page_number=122, text='548. Wici 8^ icrX.: parenthetical clause. Erechtheus is called yrpf^vrfi by Herodotus and others. The Athenians boasted that they were children of the soil (aurox^ovcs)* ')]"
      ]
     },
     "execution_count": 20,
     "metadata": {},
     "output_type": "execute_result"
    }
   ],
   "source": [
    "seymour_comm.single_line_comment"
   ]
  },
  {
   "cell_type": "code",
   "execution_count": null,
   "id": "859a331f",
   "metadata": {},
   "outputs": [],
   "source": []
  }
 ],
 "metadata": {
  "kernelspec": {
   "display_name": "Python 3",
   "language": "python",
   "name": "python3"
  },
  "language_info": {
   "codemirror_mode": {
    "name": "ipython",
    "version": 3
   },
   "file_extension": ".py",
   "mimetype": "text/x-python",
   "name": "python",
   "nbconvert_exporter": "python",
   "pygments_lexer": "ipython3",
   "version": "3.9.5"
  }
 },
 "nbformat": 4,
 "nbformat_minor": 5
}
