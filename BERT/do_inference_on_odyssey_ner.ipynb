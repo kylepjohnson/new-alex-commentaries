{
 "cells": [
  {
   "cell_type": "code",
   "execution_count": 22,
   "metadata": {},
   "outputs": [],
   "source": [
    "import re\n",
    "import torch\n",
    "import json\n",
    "\n",
    "from transformers import BertForTokenClassification, BertTokenizer, BertTokenizerFast, BatchEncoding\n",
    "from tokenizers import decoders, Encoding\n",
    "from alignment import align_tokens_and_annotations_bilou\n",
    "from seqeval.metrics import accuracy_score, f1_score, classification_report, precision_score, recall_score\n",
    "from seqeval.scheme import BILOU\n",
    "\n",
    "from prepareData import prepare_data\n",
    "from labelset import LabelSet"
   ]
  },
  {
   "cell_type": "code",
   "execution_count": 2,
   "metadata": {},
   "outputs": [],
   "source": [
    "model = BertForTokenClassification.from_pretrained(\"bert_ner_finetuned_iliad-with-gpu-pattern2.model\")"
   ]
  },
  {
   "cell_type": "code",
   "execution_count": 3,
   "metadata": {},
   "outputs": [],
   "source": [
    "tokenizer = BertTokenizerFast.from_pretrained(\"bert-base-cased\")"
   ]
  },
  {
   "cell_type": "code",
   "execution_count": 4,
   "metadata": {},
   "outputs": [],
   "source": [
    "label_list = ['O', 'B-CLEntity', 'I-CLEntity', 'L-CLEntity', 'U-CLEntity']"
   ]
  },
  {
   "cell_type": "code",
   "execution_count": 5,
   "metadata": {},
   "outputs": [],
   "source": [
    "odyssey_lines = []\n",
    "odyssey = open(\"../example-texts/odyssey.txt\")\n",
    "for line in odyssey:\n",
    "    line = line.strip()\n",
    "    odyssey_lines.append(line)"
   ]
  },
  {
   "cell_type": "code",
   "execution_count": 6,
   "metadata": {},
   "outputs": [],
   "source": [
    "odyssey_lines = [line for line in odyssey_lines if line]"
   ]
  },
  {
   "cell_type": "code",
   "execution_count": 7,
   "metadata": {},
   "outputs": [
    {
     "data": {
      "text/plain": [
       "['The man for wisdom’s various arts renown’d,',\n",
       " 'Long exercised in woes, O Muse! resound;',\n",
       " 'Who, when his arms had wrought the destined fall',\n",
       " 'Of sacred Troy, and razed her heaven-built wall,',\n",
       " 'Wandering from clime to clime, observant stray’d,']"
      ]
     },
     "execution_count": 7,
     "metadata": {},
     "output_type": "execute_result"
    }
   ],
   "source": [
    "odyssey_lines[:5]"
   ]
  },
  {
   "cell_type": "code",
   "execution_count": 8,
   "metadata": {},
   "outputs": [],
   "source": [
    "# pred = []\n",
    "# for line in odyssey_lines:\n",
    "#     tokens_line = tokenizer.tokenize(tokenizer.decode(tokenizer.encode(line)))\n",
    "#     inputs_line = tokenizer.encode(line, return_tensors=\"pt\")\n",
    "#     outputs_line = model(inputs_line).logits\n",
    "#     predictions_line = torch.argmax(outputs_line, dim=2)\n",
    "#     pred_line_label = []\n",
    "#     for prediction in predictions_line[0].numpy():\n",
    "#         pred_line_label.append(label_list[prediction])\n",
    "#     pred.append(pred_line_label)\n",
    "    \n",
    "# with open('odyssey_ner_predictions.txt', 'w') as f:\n",
    "#     f.write(json.dumps(pred))"
   ]
  },
  {
   "cell_type": "code",
   "execution_count": 9,
   "metadata": {},
   "outputs": [],
   "source": [
    "with open('odyssey_ner_predictions.txt', 'r') as f:\n",
    "    pred = json.loads(f.read())"
   ]
  },
  {
   "cell_type": "code",
   "execution_count": 12,
   "metadata": {},
   "outputs": [],
   "source": [
    "# Evaluation \n",
    "pattern = r'(\\b[A-Z][a-z]+\\b)(\\s\\b[A-Z][a-z]+\\b)*'\n",
    "odyssey_regex_matches = prepare_data(\"../example-texts/odyssey.txt\", pattern)"
   ]
  },
  {
   "cell_type": "code",
   "execution_count": 13,
   "metadata": {},
   "outputs": [
    {
     "data": {
      "text/plain": [
       "[{'content': 'The man for wisdom’s various arts renown’d,',\n",
       "  'annotations': [{'start': 0, 'end': 3, 'label': 'CLEntity'}]},\n",
       " {'content': 'Long exercised in woes, O Muse! resound;',\n",
       "  'annotations': [{'start': 0, 'end': 4, 'label': 'CLEntity'},\n",
       "   {'start': 26, 'end': 30, 'label': 'CLEntity'}]},\n",
       " {'content': 'Who, when his arms had wrought the destined fall',\n",
       "  'annotations': [{'start': 0, 'end': 3, 'label': 'CLEntity'}]},\n",
       " {'content': 'Of sacred Troy, and razed her heaven-built wall,',\n",
       "  'annotations': [{'start': 0, 'end': 2, 'label': 'CLEntity'},\n",
       "   {'start': 10, 'end': 14, 'label': 'CLEntity'}]},\n",
       " {'content': 'Wandering from clime to clime, observant stray’d,',\n",
       "  'annotations': [{'start': 0, 'end': 9, 'label': 'CLEntity'}]}]"
      ]
     },
     "execution_count": 13,
     "metadata": {},
     "output_type": "execute_result"
    }
   ],
   "source": [
    "odyssey_regex_matches[:5] "
   ]
  },
  {
   "cell_type": "code",
   "execution_count": 17,
   "metadata": {},
   "outputs": [],
   "source": [
    "clentity_label_set = LabelSet(labels=[\"CLEntity\"])"
   ]
  },
  {
   "cell_type": "code",
   "execution_count": 21,
   "metadata": {},
   "outputs": [
    {
     "name": "stdout",
     "output_type": "stream",
     "text": [
      "[['O', 'U-CLEntity', 'O', 'O', 'O', 'O', 'O', 'O', 'O', 'O', 'O', 'O', 'O', 'O', 'O', 'O'], ['O', 'U-CLEntity', 'O', 'O', 'O', 'O', 'O', 'O', 'U-CLEntity', 'O', 'O', 'O', 'O', 'O'], ['O', 'U-CLEntity', 'O', 'O', 'O', 'O', 'O', 'O', 'O', 'O', 'O', 'O'], ['O', 'U-CLEntity', 'O', 'U-CLEntity', 'O', 'O', 'O', 'O', 'O', 'O', 'O', 'O', 'O', 'O', 'O'], ['O', 'B-CLEntity', 'L-CLEntity', 'O', 'O', 'O', 'O', 'O', 'O', 'O', 'O', 'O', 'O', 'O', 'O', 'O', 'O', 'O', 'O', 'O', 'O'], ['O', 'U-CLEntity', 'O', 'O', 'O', 'O', 'O', 'O', 'O', 'O', 'O', 'O', 'O'], ['O', 'U-CLEntity', 'O', 'O', 'O', 'O', 'O', 'O', 'O', 'O', 'O', 'O', 'O', 'O', 'O', 'O'], ['O', 'U-CLEntity', 'O', 'O', 'O', 'O', 'O', 'O', 'O', 'O', 'O', 'O', 'O'], ['O', 'B-CLEntity', 'L-CLEntity', 'O', 'O', 'O', 'O', 'O', 'O', 'O', 'O', 'O', 'O', 'O', 'O'], ['O', 'U-CLEntity', 'O', 'O', 'O', 'O', 'O', 'O', 'O', 'O', 'O', 'O']]\n"
     ]
    }
   ],
   "source": [
    "true = []\n",
    "for match in odyssey_regex_matches:\n",
    "    \n",
    "    match_tokenized_batch : BatchEncoding = tokenizer(match[\"content\"])\n",
    "    match_tokenized_text : Encoding = match_tokenized_batch[0]\n",
    "    aligned_label_ids = clentity_label_set.get_aligned_label_ids_from_annotations(\n",
    "        match_tokenized_text, match[\"annotations\"]\n",
    "    )\n",
    "    match_tokens = match_tokenized_text.tokens\n",
    "    \n",
    "    true_line_label = []\n",
    "    for match_id in aligned_label_ids:\n",
    "        true_line_label.append(label_list[match_id])\n",
    "    true.append(true_line_label)"
   ]
  },
  {
   "cell_type": "code",
   "execution_count": 23,
   "metadata": {},
   "outputs": [
    {
     "name": "stdout",
     "output_type": "stream",
     "text": [
      "14409\n"
     ]
    }
   ],
   "source": [
    "print(len(true))\n",
    "print(len(pred))"
   ]
  },
  {
   "cell_type": "code",
   "execution_count": 25,
   "metadata": {},
   "outputs": [
    {
     "name": "stdout",
     "output_type": "stream",
     "text": [
      "              precision    recall  f1-score   support\n",
      "\n",
      "    CLEntity       0.86      0.25      0.39     15928\n",
      "\n",
      "   micro avg       0.86      0.25      0.39     15928\n",
      "   macro avg       0.86      0.25      0.39     15928\n",
      "weighted avg       0.86      0.25      0.39     15928\n",
      "\n"
     ]
    }
   ],
   "source": [
    "print(classification_report(true, pred, mode='strict', scheme=BILOU))"
   ]
  },
  {
   "cell_type": "code",
   "execution_count": null,
   "metadata": {},
   "outputs": [],
   "source": []
  }
 ],
 "metadata": {
  "kernelspec": {
   "display_name": "Anaconda (base)",
   "language": "python",
   "name": "anaconda-base"
  },
  "language_info": {
   "codemirror_mode": {
    "name": "ipython",
    "version": 3
   },
   "file_extension": ".py",
   "mimetype": "text/x-python",
   "name": "python",
   "nbconvert_exporter": "python",
   "pygments_lexer": "ipython3",
   "version": "3.9.5"
  }
 },
 "nbformat": 4,
 "nbformat_minor": 2
}
