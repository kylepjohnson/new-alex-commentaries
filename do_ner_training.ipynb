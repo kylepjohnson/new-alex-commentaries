{
 "cells": [
  {
   "cell_type": "code",
   "execution_count": 1,
   "metadata": {},
   "outputs": [],
   "source": [
    "%load_ext autoreload"
   ]
  },
  {
   "cell_type": "code",
   "execution_count": 2,
   "metadata": {},
   "outputs": [],
   "source": [
    "%autoreload 2"
   ]
  },
  {
   "cell_type": "code",
   "execution_count": 3,
   "metadata": {},
   "outputs": [],
   "source": [
    "import requests\n",
    "import random\n",
    "import pickle\n",
    "import ast\n",
    "import json\n",
    "from bs4 import BeautifulSoup\n",
    "from internetarchive import search_items, get_item, Search\n",
    "\n",
    "from torch.utils.data.dataloader import DataLoader\n",
    "from transformers import BertForTokenClassification, AdamW, BertTokenizer, BertTokenizerFast, BatchEncoding, TrainingArguments, Trainer\n",
    "from dataclasses import dataclass\n",
    "from typing import List"
   ]
  },
  {
   "cell_type": "code",
   "execution_count": 4,
   "metadata": {},
   "outputs": [],
   "source": [
    "from ner_pipeline.scrape_for_training import do_search, prepare_data, load_scraped_data, get_scraped_dataset_size\n",
    "from ner_pipeline.containers import TraingingBatch\n",
    "from ner_pipeline.dataset_ner import TrainingDataset\n",
    "from ner_pipeline.labelset import LabelSet"
   ]
  },
  {
   "cell_type": "code",
   "execution_count": 5,
   "metadata": {
    "scrolled": true
   },
   "outputs": [
    {
     "name": "stdout",
     "output_type": "stream",
     "text": [
      "Search string: iliad OR odyssey AND mediatype:texts\n",
      "Results: 541023\n"
     ]
    }
   ],
   "source": [
    "# Do search on archive.org\n",
    "il_od: str = \"iliad OR odyssey AND mediatype:texts\"  # 771,646 with full_text_search, 6240 without\n",
    "search_res: Search = do_search(keyword_string=il_od)"
   ]
  },
  {
   "cell_type": "code",
   "execution_count": 6,
   "metadata": {},
   "outputs": [],
   "source": [
    "# Regex of patterns of citations\n",
    "pattern = r'Iliad\\s\\d{1,2}\\.\\d{1,4}|Il\\.*\\s\\d{1,2}\\.\\d{1,4}|Iliad\\s.[ivxlcdm]*\\.\\s*\\d{1,4}| \\\n",
    "            Il\\.*\\s.[ivxlcdm]*\\.\\s*\\d{1,4}|book\\s*.[ivxlcdm]\\.\\sline\\s*\\d{1,4}| \\\n",
    "            Odyssey\\s\\d{1,2}\\.\\d{1,4}|Od\\.*\\s\\d{1,2}\\.\\d{1,4}|Odyssey\\s.[ivxlcdm]*\\.\\s*\\d{1,4}| \\\n",
    "            Od\\.*\\s.[ivxlcdm]*\\.\\s*\\d{1,4}'"
   ]
  },
  {
   "cell_type": "code",
   "execution_count": 7,
   "metadata": {},
   "outputs": [],
   "source": [
    "# # By calling this fucntion, user-defined number of pos/neg instances will be saved in `pos_neg_instances` folder.\n",
    "# # No need to redo the scraping part every time. \n",
    "# prepare_data(search_res, pattern, num_of_pos = 10000, num_of_neg = 10000)"
   ]
  },
  {
   "cell_type": "code",
   "execution_count": 8,
   "metadata": {},
   "outputs": [],
   "source": [
    "# # Directly load the previously scraped pos/neg instances from saved text files.\n",
    "pos_instances = load_scraped_data(\"pos_neg_instances/pos_instances_10000.txt\")\n",
    "neg_instances = load_scraped_data(\"pos_neg_instances/neg_instances_10000.txt\")"
   ]
  },
  {
   "cell_type": "code",
   "execution_count": 9,
   "metadata": {},
   "outputs": [],
   "source": [
    "# Since did not find 10000 positive instances and 10000 negative instances, we take 5000 each in this case.\n",
    "labeled_data = pos_instances[:5000] + neg_instances[:5000]"
   ]
  },
  {
   "cell_type": "code",
   "execution_count": 10,
   "metadata": {},
   "outputs": [
    {
     "data": {
      "text/plain": [
       "10000"
      ]
     },
     "execution_count": 10,
     "metadata": {},
     "output_type": "execute_result"
    }
   ],
   "source": [
    "len(labeled_data)"
   ]
  },
  {
   "cell_type": "code",
   "execution_count": 11,
   "metadata": {},
   "outputs": [
    {
     "name": "stdout",
     "output_type": "stream",
     "text": [
      "[{'content': 'I Megarians for Salamis, they quoted Iliad 2. 558, where ', 'annotations': [{'start': 37, 'end': 49, 'label': 'Citation'}]}, {'content': 'Megarians for Salamis, they quoted Iliad 2. 558, where ', 'annotations': [{'start': 35, 'end': 47, 'label': 'Citation'}]}, {'content': 'Megarians for Salamis, they quoted Iliad 2. 558, where ', 'annotations': [{'start': 35, 'end': 47, 'label': 'Citation'}]}]\n"
     ]
    }
   ],
   "source": [
    "print(labeled_data[:3])"
   ]
  },
  {
   "cell_type": "code",
   "execution_count": 12,
   "metadata": {},
   "outputs": [],
   "source": [
    "# note: in future, consider shuffling pos/neg seperately\n",
    "random.shuffle(labeled_data)"
   ]
  },
  {
   "cell_type": "code",
   "execution_count": 13,
   "metadata": {},
   "outputs": [
    {
     "name": "stdout",
     "output_type": "stream",
     "text": [
      "Number of instances for training: 8500\n",
      "Number of instances for testing: 1500\n"
     ]
    }
   ],
   "source": [
    "dataset_size = len(labeled_data)\n",
    "\n",
    "dataset_train = labeled_data[:dataset_size*17//20] # 85% training data\n",
    "dataset_train_size = len(dataset_train)\n",
    "\n",
    "dataset_test = labeled_data[dataset_size*17//20:] # 15% testing data\n",
    "dataset_test_size = len(dataset_test)\n",
    "\n",
    "print(\"Number of instances for training: \" + str(dataset_train_size))\n",
    "print(\"Number of instances for testing: \" + str(dataset_test_size))"
   ]
  },
  {
   "cell_type": "code",
   "execution_count": 14,
   "metadata": {},
   "outputs": [],
   "source": [
    "# Save instances for training(train and eval) and testing\n",
    "with open(\"labeled_data/train_\" + str(dataset_train_size) + \"_of_\" + str(dataset_size) + \".pickle\", \"wb\") as dataset_train_file:\n",
    "    pickle.dump(dataset_train, dataset_train_file)\n",
    "\n",
    "with open(\"labeled_data/test_\" + str(dataset_test_size) + \"_of_\" + str(dataset_size) + \".pickle\", \"wb\") as dataset_test_file:\n",
    "    pickle.dump(dataset_test, dataset_test_file)"
   ]
  },
  {
   "cell_type": "code",
   "execution_count": 15,
   "metadata": {},
   "outputs": [],
   "source": [
    "# # load the pickle file\n",
    "# with open(\"labeled_data/model_\" + str(dataset_model_size) + \"_of_\" + str(dataset_size) + \".pickle\", \"rb\") as dataset_model_file:\n",
    "#     p2 = pickle.load(dataset_model_file)\n",
    "# print(p2)"
   ]
  },
  {
   "cell_type": "code",
   "execution_count": 16,
   "metadata": {},
   "outputs": [],
   "source": [
    "tokenizer = BertTokenizerFast.from_pretrained('bert-base-cased')\n",
    "label_set = LabelSet(labels=[\"Citation\"]) #Only one label in this dataset"
   ]
  },
  {
   "cell_type": "code",
   "execution_count": 17,
   "metadata": {},
   "outputs": [],
   "source": [
    "# Note: todo understand why more results are returned than sent\n",
    "\n",
    "il_od_ner_trainingData = TrainingDataset(\n",
    "    data=dataset_train, tokenizer=tokenizer, label_set=label_set, tokens_per_batch=16\n",
    ")\n",
    "# print(len(il_od_ner_trainingData))"
   ]
  },
  {
   "cell_type": "code",
   "execution_count": 18,
   "metadata": {},
   "outputs": [],
   "source": [
    "# print(il_od_ner_trainingData[100])"
   ]
  },
  {
   "cell_type": "code",
   "execution_count": 19,
   "metadata": {},
   "outputs": [
    {
     "name": "stdout",
     "output_type": "stream",
     "text": [
      "Size of dataset for train: 11063\n",
      "Size of dataset for eval: 1953\n"
     ]
    }
   ],
   "source": [
    "il_od_ner_train = il_od_ner_trainingData[:len(il_od_ner_trainingData)*17//20]\n",
    "il_od_ner_eval = il_od_ner_trainingData[len(il_od_ner_trainingData)*17//20:]\n",
    "print(\"Size of dataset for train: \" + str(len(il_od_ner_train)))\n",
    "print(\"Size of dataset for eval: \" + str(len(il_od_ner_eval)))"
   ]
  },
  {
   "cell_type": "code",
   "execution_count": 20,
   "metadata": {},
   "outputs": [],
   "source": [
    "# # Get the label list\n",
    "# print(il_od_ner_trainingData.label_set.ids_to_label.values())"
   ]
  },
  {
   "cell_type": "code",
   "execution_count": 21,
   "metadata": {},
   "outputs": [
    {
     "name": "stderr",
     "output_type": "stream",
     "text": [
      "Some weights of the model checkpoint at bert-base-cased were not used when initializing BertForTokenClassification: ['cls.predictions.transform.dense.weight', 'cls.predictions.transform.LayerNorm.bias', 'cls.predictions.decoder.weight', 'cls.seq_relationship.bias', 'cls.predictions.transform.dense.bias', 'cls.predictions.bias', 'cls.seq_relationship.weight', 'cls.predictions.transform.LayerNorm.weight']\n",
      "- This IS expected if you are initializing BertForTokenClassification from the checkpoint of a model trained on another task or with another architecture (e.g. initializing a BertForSequenceClassification model from a BertForPreTraining model).\n",
      "- This IS NOT expected if you are initializing BertForTokenClassification from the checkpoint of a model that you expect to be exactly identical (initializing a BertForSequenceClassification model from a BertForSequenceClassification model).\n",
      "Some weights of BertForTokenClassification were not initialized from the model checkpoint at bert-base-cased and are newly initialized: ['classifier.weight', 'classifier.bias']\n",
      "You should probably TRAIN this model on a down-stream task to be able to use it for predictions and inference.\n"
     ]
    }
   ],
   "source": [
    "model = BertForTokenClassification.from_pretrained(\n",
    "    \"bert-base-cased\", num_labels=len(il_od_ner_trainingData.label_set.ids_to_label.values())\n",
    ")"
   ]
  },
  {
   "cell_type": "code",
   "execution_count": 107,
   "metadata": {},
   "outputs": [
    {
     "name": "stderr",
     "output_type": "stream",
     "text": [
      "PyTorch: setting up devices\n",
      "The default value for the training argument `--report_to` will change in v5 (from all installed integrations to none). In v5, you will need to use `--report_to all` to get the same behavior as now. You should start updating your code and make this info disappear :-).\n"
     ]
    }
   ],
   "source": [
    "training_args = TrainingArguments(\"test_trainer\")"
   ]
  },
  {
   "cell_type": "code",
   "execution_count": 39,
   "metadata": {},
   "outputs": [],
   "source": [
    "trainer = Trainer(\n",
    "    model=model, args=training_args, train_dataset=il_od_ner_train, eval_dataset=il_od_ner_eval\n",
    ")"
   ]
  },
  {
   "cell_type": "code",
   "execution_count": 40,
   "metadata": {},
   "outputs": [
    {
     "name": "stderr",
     "output_type": "stream",
     "text": [
      "***** Running training *****\n",
      "  Num examples = 179\n",
      "  Num Epochs = 3\n",
      "  Instantaneous batch size per device = 8\n",
      "  Total train batch size (w. parallel, distributed & accumulation) = 8\n",
      "  Gradient Accumulation steps = 1\n",
      "  Total optimization steps = 69\n"
     ]
    },
    {
     "data": {
      "text/html": [
       "\n",
       "    <div>\n",
       "      \n",
       "      <progress value='69' max='69' style='width:300px; height:20px; vertical-align: middle;'></progress>\n",
       "      [69/69 01:50, Epoch 3/3]\n",
       "    </div>\n",
       "    <table border=\"1\" class=\"dataframe\">\n",
       "  <thead>\n",
       "    <tr style=\"text-align: left;\">\n",
       "      <th>Step</th>\n",
       "      <th>Training Loss</th>\n",
       "    </tr>\n",
       "  </thead>\n",
       "  <tbody>\n",
       "  </tbody>\n",
       "</table><p>"
      ],
      "text/plain": [
       "<IPython.core.display.HTML object>"
      ]
     },
     "metadata": {},
     "output_type": "display_data"
    },
    {
     "name": "stderr",
     "output_type": "stream",
     "text": [
      "\n",
      "\n",
      "Training completed. Do not forget to share your model on huggingface.co/models =)\n",
      "\n",
      "\n"
     ]
    },
    {
     "data": {
      "text/plain": [
       "TrainOutput(global_step=69, training_loss=0.3468679621599723, metrics={'train_runtime': 112.3489, 'train_samples_per_second': 4.78, 'train_steps_per_second': 0.614, 'total_flos': 5553363160800.0, 'train_loss': 0.3468679621599723, 'epoch': 3.0})"
      ]
     },
     "execution_count": 40,
     "metadata": {},
     "output_type": "execute_result"
    }
   ],
   "source": [
    "trainer.train()"
   ]
  },
  {
   "cell_type": "code",
   "execution_count": 41,
   "metadata": {},
   "outputs": [
    {
     "name": "stderr",
     "output_type": "stream",
     "text": [
      "Saving model checkpoint to bert_ner_il_od-with-gpu-100.model\n",
      "Configuration saved in bert_ner_il_od-with-gpu-100.model/config.json\n",
      "Model weights saved in bert_ner_il_od-with-gpu-100.model/pytorch_model.bin\n"
     ]
    }
   ],
   "source": [
    "trainer.save_model('bert_ner_il_od-with-gpu-10000.model')"
   ]
  },
  {
   "cell_type": "code",
   "execution_count": null,
   "metadata": {},
   "outputs": [],
   "source": []
  }
 ],
 "metadata": {
  "kernelspec": {
   "display_name": "Anaconda (base)",
   "language": "python",
   "name": "anaconda-base"
  },
  "language_info": {
   "codemirror_mode": {
    "name": "ipython",
    "version": 3
   },
   "file_extension": ".py",
   "mimetype": "text/x-python",
   "name": "python",
   "nbconvert_exporter": "python",
   "pygments_lexer": "ipython3",
   "version": "3.9.5"
  }
 },
 "nbformat": 4,
 "nbformat_minor": 2
}
