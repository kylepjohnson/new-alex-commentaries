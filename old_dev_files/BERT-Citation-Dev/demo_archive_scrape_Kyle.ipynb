{
 "cells": [
  {
   "cell_type": "code",
   "execution_count": 2,
   "metadata": {},
   "outputs": [],
   "source": [
    "%load_ext autoreload"
   ]
  },
  {
   "cell_type": "code",
   "execution_count": 3,
   "metadata": {},
   "outputs": [],
   "source": [
    "%autoreload 2"
   ]
  },
  {
   "cell_type": "code",
   "execution_count": 4,
   "metadata": {},
   "outputs": [],
   "source": [
    "import random"
   ]
  },
  {
   "cell_type": "code",
   "execution_count": 5,
   "metadata": {},
   "outputs": [],
   "source": [
    "from scraping.query_archive_api import do_search"
   ]
  },
  {
   "cell_type": "code",
   "execution_count": 16,
   "metadata": {},
   "outputs": [],
   "source": [
    "from internetarchive import Search, search_items"
   ]
  },
  {
   "cell_type": "code",
   "execution_count": 7,
   "metadata": {},
   "outputs": [],
   "source": [
    "import requests"
   ]
  },
  {
   "cell_type": "code",
   "execution_count": 30,
   "metadata": {},
   "outputs": [
    {
     "name": "stdout",
     "output_type": "stream",
     "text": [
      "Search string: iliad OR odyssey\n",
      "Results: 18213\n"
     ]
    }
   ],
   "source": [
    "# Do search\n",
    "il_od: str = \"iliad OR odyssey\"  # 771,646 with full_text_search, 6240 without\n",
    "search_res: Search = do_search(keyword_string=il_od)"
   ]
  },
  {
   "cell_type": "code",
   "execution_count": 29,
   "metadata": {},
   "outputs": [
    {
     "ename": "KeyError",
     "evalue": "'fields'",
     "output_type": "error",
     "traceback": [
      "\u001b[0;31m---------------------------------------------------------------------------\u001b[0m",
      "\u001b[0;31mKeyError\u001b[0m                                  Traceback (most recent call last)",
      "\u001b[0;32m/var/folders/bt/7wsyzkls47lglb1kg__8y1p80000gn/T/ipykernel_41385/2903610885.py\u001b[0m in \u001b[0;36m<module>\u001b[0;34m\u001b[0m\n\u001b[1;32m      1\u001b[0m \u001b[0;32mfor\u001b[0m \u001b[0mitem\u001b[0m \u001b[0;32min\u001b[0m \u001b[0msearch_res\u001b[0m\u001b[0;34m:\u001b[0m\u001b[0;34m\u001b[0m\u001b[0;34m\u001b[0m\u001b[0m\n\u001b[1;32m      2\u001b[0m     \u001b[0;31m#book_url = \"https://archive.org/details/\" + item[\"fields\"][\"identifier\"][0]\u001b[0m\u001b[0;34m\u001b[0m\u001b[0;34m\u001b[0m\u001b[0;34m\u001b[0m\u001b[0m\n\u001b[0;32m----> 3\u001b[0;31m     \u001b[0mtxt_url\u001b[0m \u001b[0;34m=\u001b[0m \u001b[0;34m\"https://archive.org/streams/\"\u001b[0m \u001b[0;34m+\u001b[0m \u001b[0mitem\u001b[0m\u001b[0;34m[\u001b[0m\u001b[0;34m\"fields\"\u001b[0m\u001b[0;34m]\u001b[0m\u001b[0;34m[\u001b[0m\u001b[0;34m\"identifier\"\u001b[0m\u001b[0;34m]\u001b[0m\u001b[0;34m[\u001b[0m\u001b[0;36m0\u001b[0m\u001b[0;34m]\u001b[0m \u001b[0;34m+\u001b[0m \u001b[0;34m\"/\"\u001b[0m \u001b[0;34m+\u001b[0m \u001b[0mitem\u001b[0m\u001b[0;34m[\u001b[0m\u001b[0;34m\"fields\"\u001b[0m\u001b[0;34m]\u001b[0m\u001b[0;34m[\u001b[0m\u001b[0;34m\"identifier\"\u001b[0m\u001b[0;34m]\u001b[0m\u001b[0;34m[\u001b[0m\u001b[0;36m0\u001b[0m\u001b[0;34m]\u001b[0m \u001b[0;34m+\u001b[0m \u001b[0;34m\"_djvu.txt\"\u001b[0m\u001b[0;34m\u001b[0m\u001b[0;34m\u001b[0m\u001b[0m\n\u001b[0m\u001b[1;32m      4\u001b[0m     \u001b[0mprint\u001b[0m\u001b[0;34m(\u001b[0m\u001b[0mtxt_url\u001b[0m\u001b[0;34m)\u001b[0m\u001b[0;34m\u001b[0m\u001b[0;34m\u001b[0m\u001b[0m\n",
      "\u001b[0;31mKeyError\u001b[0m: 'fields'"
     ]
    }
   ],
   "source": [
    "for item in search_res:\n",
    "    #book_url = \"https://archive.org/details/\" + item[\"fields\"][\"identifier\"][0] \n",
    "    txt_url = \"https://archive.org/streams/\" + item[\"fields\"][\"identifier\"][0] + \"/\" + item[\"fields\"][\"identifier\"][0] + \"_djvu.txt\"\n",
    "    print(txt_url)"
   ]
  },
  {
   "cell_type": "code",
   "execution_count": null,
   "metadata": {},
   "outputs": [],
   "source": [
    "response = requests.get(url)"
   ]
  },
  {
   "cell_type": "code",
   "execution_count": 9,
   "metadata": {},
   "outputs": [],
   "source": [
    "# Loop through random elements"
   ]
  },
  {
   "cell_type": "code",
   "execution_count": 10,
   "metadata": {},
   "outputs": [
    {
     "name": "stdout",
     "output_type": "stream",
     "text": [
      "[74264, 105645, 247588, 78409, 76608, 129531, 383402, 506011, 129790, 515382]\n"
     ]
    }
   ],
   "source": [
    "no_items = 10\n",
    "random_indices = [random.randrange(len(search_res)) for x in range(no_items)]\n",
    "print(random_indices)"
   ]
  },
  {
   "cell_type": "code",
   "execution_count": 11,
   "metadata": {
    "scrolled": true
   },
   "outputs": [
    {
     "name": "stdout",
     "output_type": "stream",
     "text": [
      "{'fields': {'filename': ['dictionaryofclas0000zimm_i4j1_abbyy.gz'], 'updated_on': '2020-11-19 05:21:52', 'page_num': [326], 'meta_title': ['Dictionary of classical mythology'], 'file_basename': 'dictionaryofclas0000zimm_i4j1', 'meta_subjectSorter': ['Mythology -- Dictionaries', 'Mythology'], 'meta_creatorSorter': ['zimmerman, j. e. (john edward), 1901-'], 'created_on': '2020-09-21 10:11:53', 'meta_collection': ['inlibrary', 'printdisabled', 'internetarchivebooks', 'fav-oneikura'], 'meta_year': ['1980'], 'meta_downloads': [5], 'meta_date': ['1980-01-01T00:00:00Z'], 'meta_languageSorter': ['English'], 'meta_mediatype': ['texts'], 'file_creation_mtime': '1600679255', 'sha1_file': '61a9a753cfee3756f4a352f845e5e39142cb3893', 'meta_publicdate': ['2020-09-16T03:44:39Z'], 'identifier': ['dictionaryofclas0000zimm_i4j1'], 'meta_creator': ['Zimmerman, J. E. (John Edward), 1901-'], 'meta_publisher': ['New York : Bantam Books']}, '_index': 'fts_main', '_score': 16.688866, '_id': 'dictionaryofclas0000zimm_i4j1|03f4fd7656531fed61b9888b9d2b2d7bcd803e7d', '_type': '_doc', 'highlight': {'text': ['c. and 850 b.c. two epics by Homer, The {{{Iliad}}} and The {{{Odyssey}}}, and two didactic poems by Hesiod, Works', \"Hyginus—Fables\\n{{{Iliad}}}—Homer'\\nMet.—Metamorphoses, by Ovid Odes and Epodes—Horace {{{Odyssey}}}—Homer\\nPausanias—Description\", 'Homer’s {{{Iliad}}}. Many stories about Achilles in Aeneid; Apollodorus; Dares; Dictys; Met.; {{{Odyssey}}}; Statius’', 'and her paramour Aegisthus. Aeneid vi; {{{Iliad}}} ii; Met. xii; {{{Odyssey}}} iv; Aeschylus, Agamemnon and Choephoroe;', \"Apollodorus iii; {{{Iliad}}} ii; Pausanias v.\\nAgathon (ag' a thon). 1. One of the fifty sons of Priam. {{{Iliad}}} xxiv. 2\"]}}\n"
     ]
    },
    {
     "ename": "TypeError",
     "evalue": "'type' object is not subscriptable",
     "output_type": "error",
     "traceback": [
      "\u001b[0;31m---------------------------------------------------------------------------\u001b[0m",
      "\u001b[0;31mTypeError\u001b[0m                                 Traceback (most recent call last)",
      "\u001b[0;32m/var/folders/bt/7wsyzkls47lglb1kg__8y1p80000gn/T/ipykernel_32347/3116015905.py\u001b[0m in \u001b[0;36m<module>\u001b[0;34m\u001b[0m\n\u001b[1;32m     15\u001b[0m     \u001b[0mlanguage\u001b[0m\u001b[0;34m:\u001b[0m \u001b[0mstr\u001b[0m \u001b[0;34m=\u001b[0m \u001b[0mitem\u001b[0m\u001b[0;34m[\u001b[0m\u001b[0;34m\"fields\"\u001b[0m\u001b[0;34m]\u001b[0m\u001b[0;34m[\u001b[0m\u001b[0;34m\"meta_languageSorter\"\u001b[0m\u001b[0;34m]\u001b[0m\u001b[0;34m[\u001b[0m\u001b[0;36m0\u001b[0m\u001b[0;34m]\u001b[0m  \u001b[0;31m# seems like multiple langs in this list\u001b[0m\u001b[0;34m\u001b[0m\u001b[0;34m\u001b[0m\u001b[0m\n\u001b[1;32m     16\u001b[0m     \u001b[0mpages\u001b[0m\u001b[0;34m:\u001b[0m \u001b[0mint\u001b[0m \u001b[0;34m=\u001b[0m \u001b[0mitem\u001b[0m\u001b[0;34m[\u001b[0m\u001b[0;34m\"fields\"\u001b[0m\u001b[0;34m]\u001b[0m\u001b[0;34m[\u001b[0m\u001b[0;34m\"page_num\"\u001b[0m\u001b[0;34m]\u001b[0m\u001b[0;34m[\u001b[0m\u001b[0;36m0\u001b[0m\u001b[0;34m]\u001b[0m\u001b[0;34m\u001b[0m\u001b[0;34m\u001b[0m\u001b[0m\n\u001b[0;32m---> 17\u001b[0;31m     \u001b[0msubjects\u001b[0m\u001b[0;34m:\u001b[0m \u001b[0mlist\u001b[0m\u001b[0;34m[\u001b[0m\u001b[0mstr\u001b[0m\u001b[0;34m]\u001b[0m \u001b[0;34m=\u001b[0m \u001b[0mitem\u001b[0m\u001b[0;34m[\u001b[0m\u001b[0;34m\"fields\"\u001b[0m\u001b[0;34m]\u001b[0m\u001b[0;34m[\u001b[0m\u001b[0;34m\"meta_subjectSorter\"\u001b[0m\u001b[0;34m]\u001b[0m\u001b[0;34m\u001b[0m\u001b[0;34m\u001b[0m\u001b[0m\n\u001b[0m\u001b[1;32m     18\u001b[0m     \u001b[0mfilename\u001b[0m\u001b[0;34m:\u001b[0m \u001b[0mstr\u001b[0m \u001b[0;34m=\u001b[0m \u001b[0;34m[\u001b[0m\u001b[0;34m\"fields\"\u001b[0m\u001b[0;34m]\u001b[0m\u001b[0;34m[\u001b[0m\u001b[0;34m\"filename\"\u001b[0m\u001b[0;34m]\u001b[0m  \u001b[0;31m# what is this?\u001b[0m\u001b[0;34m\u001b[0m\u001b[0;34m\u001b[0m\u001b[0m\n\u001b[1;32m     19\u001b[0m     \u001b[0mtitle\u001b[0m\u001b[0;34m:\u001b[0m \u001b[0mstr\u001b[0m \u001b[0;34m=\u001b[0m \u001b[0mitem\u001b[0m\u001b[0;34m[\u001b[0m\u001b[0;34m\"fields\"\u001b[0m\u001b[0;34m]\u001b[0m\u001b[0;34m[\u001b[0m\u001b[0;34m\"meta_title\"\u001b[0m\u001b[0;34m]\u001b[0m\u001b[0;34m[\u001b[0m\u001b[0;36m0\u001b[0m\u001b[0;34m]\u001b[0m\u001b[0;34m\u001b[0m\u001b[0;34m\u001b[0m\u001b[0m\n",
      "\u001b[0;31mTypeError\u001b[0m: 'type' object is not subscriptable"
     ]
    }
   ],
   "source": [
    "count = 0\n",
    "for item in search_res:\n",
    "#     if count not in random_indices:\n",
    "#         count +=1\n",
    "#         continue\n",
    "#     count += 1\n",
    "    #print(item['identifier'])\n",
    "    #print(item.metadata)\n",
    "    print(item)\n",
    "    identifier: str = item[\"fields\"][\"identifier\"][0]  # why a list?\n",
    "    _id: str = item[\"_id\"]\n",
    "    score: float = item[\"_score\"]\n",
    "    year: str = item[\"fields\"][\"meta_year\"]\n",
    "    publisher: str = item[\"fields\"][\"meta_publisher\"]\n",
    "    language: str = item[\"fields\"][\"meta_languageSorter\"][0]  # seems like multiple langs in this list\n",
    "    pages: int = item[\"fields\"][\"page_num\"][0]\n",
    "    subjects: list[str] = item[\"fields\"][\"meta_subjectSorter\"]\n",
    "    filename: str = [\"fields\"][\"filename\"]  # what is this?\n",
    "    title: str = item[\"fields\"][\"meta_title\"][0]\n",
    "    _type = item[\"_item\"]\n",
    "    input()"
   ]
  },
  {
   "cell_type": "code",
   "execution_count": null,
   "metadata": {},
   "outputs": [],
   "source": [
    "item[]"
   ]
  },
  {
   "cell_type": "code",
   "execution_count": 56,
   "metadata": {},
   "outputs": [],
   "source": [
    "d = {'highlight': {'text': ['c. and 850 b.c. two epics by Homer, The {{{Iliad}}} and The {{{Odyssey}}}, and two didactic poems by Hesiod, Works', \"Hyginus—Fables\\n{{{Iliad}}}—Homer'\\nMet.—Metamorphoses, by Ovid Odes and Epodes—Horace {{{Odyssey}}}—Homer\\nPausanias—Description\", 'Homer’s {{{Iliad}}}. Many stories about Achilles in Aeneid; Apollodorus; Dares; Dictys; Met.; {{{Odyssey}}}; Statius’', 'and her paramour Aegisthus. Aeneid vi; {{{Iliad}}} ii; Met. xii; {{{Odyssey}}} iv; Aeschylus, Agamemnon and Choephoroe;', \"Apollodorus iii; {{{Iliad}}} ii; Pausanias v.\\nAgathon (ag' a thon). 1. One of the fifty sons of Priam. {{{Iliad}}} xxiv. 2\"]}, '_id': 'dictionaryofclas0000zimm_i4j1|03f4fd7656531fed61b9888b9d2b2d7bcd803e7d', '_score': 16.684505, 'fields': {'meta_year': ['1980'], 'file_basename': 'dictionaryofclas0000zimm_i4j1', 'meta_publisher': ['New York : Bantam Books'], 'meta_creator': ['Zimmerman, J. E. (John Edward), 1901-'], 'meta_languageSorter': ['English'], 'sha1_file': '61a9a753cfee3756f4a352f845e5e39142cb3893', 'meta_mediatype': ['texts'], 'updated_on': '2020-11-19 05:21:52', 'meta_creatorSorter': ['zimmerman, j. e. (john edward), 1901-'], 'page_num': [326], 'meta_subjectSorter': ['Mythology -- Dictionaries', 'Mythology'], 'filename': ['dictionaryofclas0000zimm_i4j1_abbyy.gz'], 'file_creation_mtime': '1600679255', 'identifier': ['dictionaryofclas0000zimm_i4j1'], 'created_on': '2020-09-21 10:11:53', 'meta_publicdate': ['2020-09-16T03:44:39Z'], 'meta_downloads': [5], 'meta_collection': ['inlibrary', 'printdisabled', 'internetarchivebooks', 'fav-oneikura'], 'meta_date': ['1980-01-01T00:00:00Z'], 'meta_title': ['Dictionary of classical mythology']}, '_index': 'fts_main', '_type': '_doc'}"
   ]
  },
  {
   "cell_type": "code",
   "execution_count": 62,
   "metadata": {},
   "outputs": [
    {
     "data": {
      "text/plain": [
       "dict_keys(['meta_year', 'file_basename', 'meta_publisher', 'meta_creator', 'meta_languageSorter', 'sha1_file', 'meta_mediatype', 'updated_on', 'meta_creatorSorter', 'page_num', 'meta_subjectSorter', 'filename', 'file_creation_mtime', 'identifier', 'created_on', 'meta_publicdate', 'meta_downloads', 'meta_collection', 'meta_date', 'meta_title'])"
      ]
     },
     "execution_count": 62,
     "metadata": {},
     "output_type": "execute_result"
    }
   ],
   "source": [
    "d[\"fields\"].keys()"
   ]
  },
  {
   "cell_type": "code",
   "execution_count": 65,
   "metadata": {},
   "outputs": [
    {
     "data": {
      "text/plain": [
       "dict_keys(['highlight', '_id', '_score', 'fields', '_index', '_type'])"
      ]
     },
     "execution_count": 65,
     "metadata": {},
     "output_type": "execute_result"
    }
   ],
   "source": [
    "d.keys()"
   ]
  },
  {
   "cell_type": "code",
   "execution_count": 66,
   "metadata": {},
   "outputs": [
    {
     "data": {
      "text/plain": [
       "'dictionaryofclas0000zimm_i4j1|03f4fd7656531fed61b9888b9d2b2d7bcd803e7d'"
      ]
     },
     "execution_count": 66,
     "metadata": {},
     "output_type": "execute_result"
    }
   ],
   "source": [
    "d[\"_id\"]"
   ]
  },
  {
   "cell_type": "code",
   "execution_count": 84,
   "metadata": {},
   "outputs": [
    {
     "data": {
      "text/plain": [
       "['Dictionary of classical mythology']"
      ]
     },
     "execution_count": 84,
     "metadata": {},
     "output_type": "execute_result"
    }
   ],
   "source": [
    "d[\"fields\"][\"meta_title\"][0]"
   ]
  }
 ],
 "metadata": {
  "kernelspec": {
   "display_name": "Python 3 (ipykernel)",
   "language": "python",
   "name": "python3"
  },
  "language_info": {
   "codemirror_mode": {
    "name": "ipython",
    "version": 3
   },
   "file_extension": ".py",
   "mimetype": "text/x-python",
   "name": "python",
   "nbconvert_exporter": "python",
   "pygments_lexer": "ipython3",
   "version": "3.7.1"
  }
 },
 "nbformat": 4,
 "nbformat_minor": 5
}
