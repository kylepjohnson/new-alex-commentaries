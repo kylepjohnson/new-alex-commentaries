{
 "cells": [
  {
   "cell_type": "code",
   "execution_count": 1,
   "id": "6cf80279",
   "metadata": {},
   "outputs": [],
   "source": [
    "%load_ext autoreload"
   ]
  },
  {
   "cell_type": "code",
   "execution_count": 2,
   "id": "2eba6e53",
   "metadata": {},
   "outputs": [],
   "source": [
    "%autoreload 2"
   ]
  },
  {
   "cell_type": "code",
   "execution_count": 19,
   "id": "9ef88681",
   "metadata": {},
   "outputs": [],
   "source": [
    "import random"
   ]
  },
  {
   "cell_type": "code",
   "execution_count": 10,
   "id": "231cf172",
   "metadata": {},
   "outputs": [],
   "source": [
    "from scraping.query_archive_api import do_search"
   ]
  },
  {
   "cell_type": "code",
   "execution_count": 11,
   "id": "e3d916b8",
   "metadata": {},
   "outputs": [],
   "source": [
    "from internetarchive import Search"
   ]
  },
  {
   "cell_type": "code",
   "execution_count": 12,
   "id": "c6a960ce",
   "metadata": {},
   "outputs": [
    {
     "name": "stdout",
     "output_type": "stream",
     "text": [
      "Search string: iliad OR odyssey\n",
      "Results: 771801\n"
     ]
    }
   ],
   "source": [
    "# Do search\n",
    "il_od: str = \"iliad OR odyssey\"  # 771,646\n",
    "search_res: Search = do_search(keyword_string=il_od)"
   ]
  },
  {
   "cell_type": "code",
   "execution_count": 14,
   "id": "d27a34e0",
   "metadata": {},
   "outputs": [],
   "source": [
    "# Loop through random elements"
   ]
  },
  {
   "cell_type": "code",
   "execution_count": 40,
   "id": "ecfcab6a",
   "metadata": {},
   "outputs": [
    {
     "name": "stdout",
     "output_type": "stream",
     "text": [
      "[282804, 449442, 169944, 590094, 478467, 389636, 498422, 224461, 439650, 409436]\n"
     ]
    }
   ],
   "source": [
    "no_items = 10\n",
    "random_indices = [random.randrange(len(search_res)) for x in range(no_items)]\n",
    "print(random_indices)"
   ]
  },
  {
   "cell_type": "code",
   "execution_count": 86,
   "id": "e0705715",
   "metadata": {
    "scrolled": true
   },
   "outputs": [
    {
     "name": "stderr",
     "output_type": "stream",
     "text": [
      "<>:18: SyntaxWarning: list indices must be integers or slices, not str; perhaps you missed a comma?\n",
      "<>:18: SyntaxWarning: list indices must be integers or slices, not str; perhaps you missed a comma?\n",
      "<ipython-input-86-b5ca3f0ba131>:18: SyntaxWarning: list indices must be integers or slices, not str; perhaps you missed a comma?\n",
      "  filename: str = [\"fields\"][\"filename\"][0]\n"
     ]
    },
    {
     "name": "stdout",
     "output_type": "stream",
     "text": [
      "{'highlight': {'text': ['c. and 850 b.c. two epics by Homer, The {{{Iliad}}} and The {{{Odyssey}}}, and two didactic poems by Hesiod, Works', \"Hyginus—Fables\\n{{{Iliad}}}—Homer'\\nMet.—Metamorphoses, by Ovid Odes and Epodes—Horace {{{Odyssey}}}—Homer\\nPausanias—Description\", 'Homer’s {{{Iliad}}}. Many stories about Achilles in Aeneid; Apollodorus; Dares; Dictys; Met.; {{{Odyssey}}}; Statius’', 'and her paramour Aegisthus. Aeneid vi; {{{Iliad}}} ii; Met. xii; {{{Odyssey}}} iv; Aeschylus, Agamemnon and Choephoroe;', \"Apollodorus iii; {{{Iliad}}} ii; Pausanias v.\\nAgathon (ag' a thon). 1. One of the fifty sons of Priam. {{{Iliad}}} xxiv. 2\"]}, '_id': 'dictionaryofclas0000zimm_i4j1|03f4fd7656531fed61b9888b9d2b2d7bcd803e7d', '_score': 16.679996, 'fields': {'meta_year': ['1980'], 'file_basename': 'dictionaryofclas0000zimm_i4j1', 'meta_publisher': ['New York : Bantam Books'], 'meta_creator': ['Zimmerman, J. E. (John Edward), 1901-'], 'meta_languageSorter': ['English'], 'sha1_file': '61a9a753cfee3756f4a352f845e5e39142cb3893', 'meta_mediatype': ['texts'], 'updated_on': '2020-11-19 05:21:52', 'meta_creatorSorter': ['zimmerman, j. e. (john edward), 1901-'], 'page_num': [326], 'meta_subjectSorter': ['Mythology -- Dictionaries', 'Mythology'], 'filename': ['dictionaryofclas0000zimm_i4j1_abbyy.gz'], 'file_creation_mtime': '1600679255', 'identifier': ['dictionaryofclas0000zimm_i4j1'], 'created_on': '2020-09-21 10:11:53', 'meta_publicdate': ['2020-09-16T03:44:39Z'], 'meta_downloads': [5], 'meta_collection': ['inlibrary', 'printdisabled', 'internetarchivebooks', 'fav-oneikura'], 'meta_date': ['1980-01-01T00:00:00Z'], 'meta_title': ['Dictionary of classical mythology']}, '_index': 'fts_main', '_type': '_doc'}\n"
     ]
    },
    {
     "ename": "TypeError",
     "evalue": "list indices must be integers or slices, not str",
     "output_type": "error",
     "traceback": [
      "\u001b[0;31m---------------------------------------------------------------------------\u001b[0m",
      "\u001b[0;31mTypeError\u001b[0m                                 Traceback (most recent call last)",
      "\u001b[0;32m<ipython-input-86-b5ca3f0ba131>\u001b[0m in \u001b[0;36m<module>\u001b[0;34m\u001b[0m\n\u001b[1;32m     16\u001b[0m     \u001b[0mpages\u001b[0m\u001b[0;34m:\u001b[0m \u001b[0mint\u001b[0m \u001b[0;34m=\u001b[0m \u001b[0mitem\u001b[0m\u001b[0;34m[\u001b[0m\u001b[0;34m\"fields\"\u001b[0m\u001b[0;34m]\u001b[0m\u001b[0;34m[\u001b[0m\u001b[0;34m\"page_num\"\u001b[0m\u001b[0;34m]\u001b[0m\u001b[0;34m[\u001b[0m\u001b[0;36m0\u001b[0m\u001b[0;34m]\u001b[0m\u001b[0;34m\u001b[0m\u001b[0;34m\u001b[0m\u001b[0m\n\u001b[1;32m     17\u001b[0m     \u001b[0msubjects\u001b[0m\u001b[0;34m:\u001b[0m \u001b[0mlist\u001b[0m\u001b[0;34m[\u001b[0m\u001b[0mstr\u001b[0m\u001b[0;34m]\u001b[0m \u001b[0;34m=\u001b[0m \u001b[0mitem\u001b[0m\u001b[0;34m[\u001b[0m\u001b[0;34m\"fields\"\u001b[0m\u001b[0;34m]\u001b[0m\u001b[0;34m[\u001b[0m\u001b[0;34m\"meta_subjectSorter\"\u001b[0m\u001b[0;34m]\u001b[0m\u001b[0;34m\u001b[0m\u001b[0;34m\u001b[0m\u001b[0m\n\u001b[0;32m---> 18\u001b[0;31m     \u001b[0mfilename\u001b[0m\u001b[0;34m:\u001b[0m \u001b[0mstr\u001b[0m \u001b[0;34m=\u001b[0m \u001b[0;34m[\u001b[0m\u001b[0;34m\"fields\"\u001b[0m\u001b[0;34m]\u001b[0m\u001b[0;34m[\u001b[0m\u001b[0;34m\"filename\"\u001b[0m\u001b[0;34m]\u001b[0m\u001b[0;34m[\u001b[0m\u001b[0;36m0\u001b[0m\u001b[0;34m]\u001b[0m\u001b[0;34m\u001b[0m\u001b[0;34m\u001b[0m\u001b[0m\n\u001b[0m\u001b[1;32m     19\u001b[0m     \u001b[0mtitle\u001b[0m\u001b[0;34m:\u001b[0m \u001b[0mstr\u001b[0m \u001b[0;34m=\u001b[0m \u001b[0mitem\u001b[0m\u001b[0;34m[\u001b[0m\u001b[0;34m\"fields\"\u001b[0m\u001b[0;34m]\u001b[0m\u001b[0;34m[\u001b[0m\u001b[0;34m\"meta_title\"\u001b[0m\u001b[0;34m]\u001b[0m\u001b[0;34m[\u001b[0m\u001b[0;36m0\u001b[0m\u001b[0;34m]\u001b[0m\u001b[0;34m\u001b[0m\u001b[0;34m\u001b[0m\u001b[0m\n\u001b[1;32m     20\u001b[0m     \u001b[0m_type\u001b[0m \u001b[0;34m=\u001b[0m \u001b[0mitem\u001b[0m\u001b[0;34m[\u001b[0m\u001b[0;34m\"_item\"\u001b[0m\u001b[0;34m]\u001b[0m\u001b[0;34m\u001b[0m\u001b[0;34m\u001b[0m\u001b[0m\n",
      "\u001b[0;31mTypeError\u001b[0m: list indices must be integers or slices, not str"
     ]
    }
   ],
   "source": [
    "count = 0\n",
    "for item in search_res:\n",
    "#     if count not in random_indices:\n",
    "#         count +=1\n",
    "#         continue\n",
    "#     count += 1\n",
    "    #print(item['identifier'])\n",
    "    #print(item.metadata)\n",
    "    print(item)\n",
    "    identifier: str = item[\"fields\"][\"identifier\"][0]  # why a list?\n",
    "    _id: str = item[\"_id\"]\n",
    "    score: float = item[\"_score\"]\n",
    "    year: str = item[\"fields\"][\"meta_year\"]\n",
    "    publisher: str = item[\"fields\"][\"meta_publisher\"]\n",
    "    language: str = item[\"fields\"][\"meta_languageSorter\"][0]  # seems like multiple langs in this list\n",
    "    pages: int = item[\"fields\"][\"page_num\"][0]\n",
    "    subjects: list[str] = item[\"fields\"][\"meta_subjectSorter\"]\n",
    "    filename: str = [\"fields\"][\"filename\"]  # what is this?\n",
    "    title: str = item[\"fields\"][\"meta_title\"][0]\n",
    "    _type = item[\"_item\"]\n",
    "    input()"
   ]
  },
  {
   "cell_type": "code",
   "execution_count": null,
   "id": "4364aeb3",
   "metadata": {},
   "outputs": [],
   "source": [
    "item[]"
   ]
  },
  {
   "cell_type": "code",
   "execution_count": 56,
   "id": "31d4b631",
   "metadata": {},
   "outputs": [],
   "source": [
    "d = {'highlight': {'text': ['c. and 850 b.c. two epics by Homer, The {{{Iliad}}} and The {{{Odyssey}}}, and two didactic poems by Hesiod, Works', \"Hyginus—Fables\\n{{{Iliad}}}—Homer'\\nMet.—Metamorphoses, by Ovid Odes and Epodes—Horace {{{Odyssey}}}—Homer\\nPausanias—Description\", 'Homer’s {{{Iliad}}}. Many stories about Achilles in Aeneid; Apollodorus; Dares; Dictys; Met.; {{{Odyssey}}}; Statius’', 'and her paramour Aegisthus. Aeneid vi; {{{Iliad}}} ii; Met. xii; {{{Odyssey}}} iv; Aeschylus, Agamemnon and Choephoroe;', \"Apollodorus iii; {{{Iliad}}} ii; Pausanias v.\\nAgathon (ag' a thon). 1. One of the fifty sons of Priam. {{{Iliad}}} xxiv. 2\"]}, '_id': 'dictionaryofclas0000zimm_i4j1|03f4fd7656531fed61b9888b9d2b2d7bcd803e7d', '_score': 16.684505, 'fields': {'meta_year': ['1980'], 'file_basename': 'dictionaryofclas0000zimm_i4j1', 'meta_publisher': ['New York : Bantam Books'], 'meta_creator': ['Zimmerman, J. E. (John Edward), 1901-'], 'meta_languageSorter': ['English'], 'sha1_file': '61a9a753cfee3756f4a352f845e5e39142cb3893', 'meta_mediatype': ['texts'], 'updated_on': '2020-11-19 05:21:52', 'meta_creatorSorter': ['zimmerman, j. e. (john edward), 1901-'], 'page_num': [326], 'meta_subjectSorter': ['Mythology -- Dictionaries', 'Mythology'], 'filename': ['dictionaryofclas0000zimm_i4j1_abbyy.gz'], 'file_creation_mtime': '1600679255', 'identifier': ['dictionaryofclas0000zimm_i4j1'], 'created_on': '2020-09-21 10:11:53', 'meta_publicdate': ['2020-09-16T03:44:39Z'], 'meta_downloads': [5], 'meta_collection': ['inlibrary', 'printdisabled', 'internetarchivebooks', 'fav-oneikura'], 'meta_date': ['1980-01-01T00:00:00Z'], 'meta_title': ['Dictionary of classical mythology']}, '_index': 'fts_main', '_type': '_doc'}"
   ]
  },
  {
   "cell_type": "code",
   "execution_count": 62,
   "id": "924e4a7e",
   "metadata": {},
   "outputs": [
    {
     "data": {
      "text/plain": [
       "dict_keys(['meta_year', 'file_basename', 'meta_publisher', 'meta_creator', 'meta_languageSorter', 'sha1_file', 'meta_mediatype', 'updated_on', 'meta_creatorSorter', 'page_num', 'meta_subjectSorter', 'filename', 'file_creation_mtime', 'identifier', 'created_on', 'meta_publicdate', 'meta_downloads', 'meta_collection', 'meta_date', 'meta_title'])"
      ]
     },
     "execution_count": 62,
     "metadata": {},
     "output_type": "execute_result"
    }
   ],
   "source": [
    "d[\"fields\"].keys()"
   ]
  },
  {
   "cell_type": "code",
   "execution_count": 65,
   "id": "2d06842e",
   "metadata": {},
   "outputs": [
    {
     "data": {
      "text/plain": [
       "dict_keys(['highlight', '_id', '_score', 'fields', '_index', '_type'])"
      ]
     },
     "execution_count": 65,
     "metadata": {},
     "output_type": "execute_result"
    }
   ],
   "source": [
    "d.keys()"
   ]
  },
  {
   "cell_type": "code",
   "execution_count": 66,
   "id": "e5387d67",
   "metadata": {},
   "outputs": [
    {
     "data": {
      "text/plain": [
       "'dictionaryofclas0000zimm_i4j1|03f4fd7656531fed61b9888b9d2b2d7bcd803e7d'"
      ]
     },
     "execution_count": 66,
     "metadata": {},
     "output_type": "execute_result"
    }
   ],
   "source": [
    "d[\"_id\"]"
   ]
  },
  {
   "cell_type": "code",
   "execution_count": 84,
   "id": "35ac8e48",
   "metadata": {},
   "outputs": [
    {
     "data": {
      "text/plain": [
       "['Dictionary of classical mythology']"
      ]
     },
     "execution_count": 84,
     "metadata": {},
     "output_type": "execute_result"
    }
   ],
   "source": [
    "d[\"fields\"][\"meta_title\"][0]"
   ]
  }
 ],
 "metadata": {
  "kernelspec": {
   "display_name": "Python 3",
   "language": "python",
   "name": "python3"
  },
  "language_info": {
   "codemirror_mode": {
    "name": "ipython",
    "version": 3
   },
   "file_extension": ".py",
   "mimetype": "text/x-python",
   "name": "python",
   "nbconvert_exporter": "python",
   "pygments_lexer": "ipython3",
   "version": "3.9.5"
  }
 },
 "nbformat": 4,
 "nbformat_minor": 5
}
